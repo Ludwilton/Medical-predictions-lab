{
 "cells": [
  {
   "cell_type": "code",
   "execution_count": 10,
   "metadata": {},
   "outputs": [],
   "source": [
    "import pandas as pd\n",
    "from sklearn.model_selection import train_test_split\n",
    "from sklearn.preprocessing import MinMaxScaler\n",
    "from sklearn.preprocessing import StandardScaler\n",
    "from sklearn.ensemble import RandomForestClassifier\n",
    "from sklearn.linear_model import LogisticRegression\n",
    "from sklearn.neighbors import KNeighborsClassifier\n",
    "from sklearn.ensemble import VotingClassifier\n",
    "from sklearn.model_selection import GridSearchCV\n",
    "from sklearn.metrics import accuracy_score, classification_report, confusion_matrix, precision_score, recall_score, f1_score, ConfusionMatrixDisplay\n",
    "import numpy as np\n",
    "\n",
    "# Read the data\n",
    "df1 = pd.read_csv(\"./data/cardio_set1.csv\", index_col=0)\n",
    "df2 = pd.read_csv(\"./data/cardio_set2.csv\", index_col=0)"
   ]
  },
  {
   "cell_type": "code",
   "execution_count": 11,
   "metadata": {},
   "outputs": [
    {
     "data": {
      "text/plain": [
       "<bound method DataFrame.info of          age  ap_hi  ap_lo  cholesterol  gluc  smoke  alco  active  cardio  \\\n",
       "id                                                                           \n",
       "0      18393    110     80            1     1      0     0       1       0   \n",
       "1      20228    140     90            3     1      0     0       1       1   \n",
       "2      18857    130     70            3     1      0     0       0       1   \n",
       "3      17623    150    100            1     1      0     0       1       1   \n",
       "4      17474    100     60            1     1      0     0       0       0   \n",
       "...      ...    ...    ...          ...   ...    ...   ...     ...     ...   \n",
       "99993  19240    120     80            1     1      1     0       1       0   \n",
       "99995  22601    140     90            2     2      0     0       1       1   \n",
       "99996  19066    180     90            3     1      0     1       0       1   \n",
       "99998  22431    135     80            1     2      0     0       0       1   \n",
       "99999  20540    120     80            2     1      0     0       1       0   \n",
       "\n",
       "             bmi  gender_1  gender_2  \n",
       "id                                    \n",
       "0      21.967120     False      True  \n",
       "1      34.927679      True     False  \n",
       "2      23.507805      True     False  \n",
       "3      28.710479     False      True  \n",
       "4      23.011177      True     False  \n",
       "...          ...       ...       ...  \n",
       "99993  26.927438     False      True  \n",
       "99995  50.472681      True     False  \n",
       "99996  31.353579     False      True  \n",
       "99998  27.099251      True     False  \n",
       "99999  24.913495      True     False  \n",
       "\n",
       "[68642 rows x 12 columns]>"
      ]
     },
     "execution_count": 11,
     "metadata": {},
     "output_type": "execute_result"
    }
   ],
   "source": [
    "# randomforest\n",
    "# logistic regression\n",
    "# svm - långsam\n",
    "# knn\n",
    "df2.info"
   ]
  },
  {
   "cell_type": "code",
   "execution_count": null,
   "metadata": {},
   "outputs": [],
   "source": []
  },
  {
   "cell_type": "code",
   "execution_count": 12,
   "metadata": {},
   "outputs": [
    {
     "data": {
      "text/plain": [
       "((9953, 18), (9954, 18), (48735, 18))"
      ]
     },
     "execution_count": 12,
     "metadata": {},
     "output_type": "execute_result"
    }
   ],
   "source": [
    "X1, y1 = df1.drop(columns=[\"cardio\"]), df1[\"cardio\"]\n",
    "X2, y2 = df2.drop(columns=[\"cardio\"]), df2[\"cardio\"]\n",
    "\n",
    "X1_train, X1_test, y1_train, y1_test = train_test_split(X1, y1, test_size=0.29)\n",
    "X2_train, X2_test, y2_train, y2_test = train_test_split(X2, y2, test_size=0.29)\n",
    "\n",
    "X1_test, X1_val, y1_test, y1_val = train_test_split(X1_test, y1_test, test_size=0.5)\n",
    "X2_test, X2_val, y2_test, y2_val = train_test_split(X2_test, y2_test, test_size=0.5)\n",
    "\n",
    "X1_test.shape, X1_val.shape, X1_train.shape"
   ]
  },
  {
   "cell_type": "code",
   "execution_count": 13,
   "metadata": {},
   "outputs": [],
   "source": [
    "scaler_set1 = StandardScaler()\n",
    "scaler_set2 = StandardScaler()\n",
    "\n",
    "normalisation_set1 = MinMaxScaler()\n",
    "normalisation_set2 = MinMaxScaler()\n",
    "\n",
    "rf = RandomForestClassifier()\n",
    "lr = LogisticRegression()\n",
    "knn = KNeighborsClassifier()\n",
    "\n",
    "\n",
    "\n",
    "scaled_X1_train = scaler_set1.fit_transform(X1_train)\n",
    "scaled_X2_train = scaler_set2.fit_transform(X2_train)\n",
    "scaled_X1_test = scaler_set1.transform(X1_test)\n",
    "scaled_X2_test = scaler_set2.transform(X2_test)\n",
    "scaled_X1_val = scaler_set1.transform(X1_val)\n",
    "scaled_X2_val = scaler_set2.transform(X2_val)\n",
    "\n",
    "norm_X1_train = normalisation_set1.fit_transform(scaled_X1_train)\n",
    "norm_X2_train = normalisation_set2.fit_transform(scaled_X2_train)\n",
    "norm_X1_test = normalisation_set1.transform(scaled_X1_test)\n",
    "norm_X2_test = normalisation_set2.transform(scaled_X2_test)\n",
    "norm_X1_val = normalisation_set1.transform(scaled_X1_val)\n",
    "norm_X2_val = normalisation_set2.transform(scaled_X2_val)\n"
   ]
  },
  {
   "cell_type": "code",
   "execution_count": 14,
   "metadata": {},
   "outputs": [],
   "source": [
    "rf_param_grid = {\n",
    "    \"n_estimators\": [100, 150, 200],\n",
    "    \"max_depth\": [5,10,20,None],\n",
    "    \"min_samples_split\": [2, 5],\n",
    "    \"min_samples_leaf\": [1, 2, 4, 8],\n",
    "}\n",
    "\n",
    "l1_ratio = np.linspace(0, 1, 20)\n",
    "\n",
    "lr_param_grid = {\n",
    "    \"penalty\": [\"l1\", \"l2\", \"elasticnet\"],\n",
    "    \"C\": [0.01, 0.1, 1, 10, 100],\n",
    "    \"solver\": [\"saga\"],\n",
    "}\n",
    "\n",
    "knn_param_grid = {\n",
    "    \"n_neighbors\": [11, 15 ,20 ,25 ,30,50],\n",
    "    \"weights\": [\"uniform\", \"distance\"],\n",
    "}\n"
   ]
  },
  {
   "cell_type": "code",
   "execution_count": 15,
   "metadata": {},
   "outputs": [
    {
     "name": "stdout",
     "output_type": "stream",
     "text": [
      "Fitting 5 folds for each of 96 candidates, totalling 480 fits\n",
      "Random Forest best Parameters: {'max_depth': 10, 'min_samples_leaf': 1, 'min_samples_split': 5, 'n_estimators': 150}\n",
      "Random Forest performance:\n",
      "accuracy: 0.7183\n",
      "precision: 0.7442\n",
      "recall: 0.6597\n",
      "F1 Score: 0.6994\n",
      "Fitting 5 folds for each of 96 candidates, totalling 480 fits\n",
      "Random Forest best Parameters: {'max_depth': 10, 'min_samples_leaf': 4, 'min_samples_split': 5, 'n_estimators': 100}\n",
      "Random Forest performance:\n",
      "accuracy: 0.7309\n",
      "precision: 0.7624\n",
      "recall: 0.6657\n",
      "F1 Score: 0.7108\n",
      "Fitting 5 folds for each of 15 candidates, totalling 75 fits\n"
     ]
    },
    {
     "name": "stderr",
     "output_type": "stream",
     "text": [
      "c:\\Users\\ludwi\\repos\\Medical-predictions-lab\\.venv\\Lib\\site-packages\\sklearn\\model_selection\\_validation.py:528: FitFailedWarning: \n",
      "25 fits failed out of a total of 75.\n",
      "The score on these train-test partitions for these parameters will be set to nan.\n",
      "If these failures are not expected, you can try to debug them by setting error_score='raise'.\n",
      "\n",
      "Below are more details about the failures:\n",
      "--------------------------------------------------------------------------------\n",
      "25 fits failed with the following error:\n",
      "Traceback (most recent call last):\n",
      "  File \"c:\\Users\\ludwi\\repos\\Medical-predictions-lab\\.venv\\Lib\\site-packages\\sklearn\\model_selection\\_validation.py\", line 866, in _fit_and_score\n",
      "    estimator.fit(X_train, y_train, **fit_params)\n",
      "  File \"c:\\Users\\ludwi\\repos\\Medical-predictions-lab\\.venv\\Lib\\site-packages\\sklearn\\base.py\", line 1389, in wrapper\n",
      "    return fit_method(estimator, *args, **kwargs)\n",
      "           ^^^^^^^^^^^^^^^^^^^^^^^^^^^^^^^^^^^^^^\n",
      "  File \"c:\\Users\\ludwi\\repos\\Medical-predictions-lab\\.venv\\Lib\\site-packages\\sklearn\\linear_model\\_logistic.py\", line 1203, in fit\n",
      "    raise ValueError(\"l1_ratio must be specified when penalty is elasticnet.\")\n",
      "ValueError: l1_ratio must be specified when penalty is elasticnet.\n",
      "\n",
      "  warnings.warn(some_fits_failed_message, FitFailedWarning)\n",
      "c:\\Users\\ludwi\\repos\\Medical-predictions-lab\\.venv\\Lib\\site-packages\\sklearn\\model_selection\\_search.py:1108: UserWarning: One or more of the test scores are non-finite: [0.72063199 0.72153483        nan 0.72227352 0.72215041        nan\n",
      " 0.72233508 0.72241715        nan 0.72239663 0.72241715        nan\n",
      " 0.72241715 0.72245819        nan]\n",
      "  warnings.warn(\n",
      "c:\\Users\\ludwi\\repos\\Medical-predictions-lab\\.venv\\Lib\\site-packages\\sklearn\\linear_model\\_sag.py:348: ConvergenceWarning: The max_iter was reached which means the coef_ did not converge\n",
      "  warnings.warn(\n"
     ]
    },
    {
     "name": "stdout",
     "output_type": "stream",
     "text": [
      "Logistic Regression best Parameters: {'C': 100, 'penalty': 'l2', 'solver': 'saga'}\n",
      "Logistic Regression performance:\n",
      "accuracy: 0.7154\n",
      "precision: 0.7475\n",
      "recall: 0.6449\n",
      "F1 Score: 0.6924\n",
      "Fitting 5 folds for each of 15 candidates, totalling 75 fits\n"
     ]
    },
    {
     "name": "stderr",
     "output_type": "stream",
     "text": [
      "c:\\Users\\ludwi\\repos\\Medical-predictions-lab\\.venv\\Lib\\site-packages\\sklearn\\model_selection\\_validation.py:528: FitFailedWarning: \n",
      "25 fits failed out of a total of 75.\n",
      "The score on these train-test partitions for these parameters will be set to nan.\n",
      "If these failures are not expected, you can try to debug them by setting error_score='raise'.\n",
      "\n",
      "Below are more details about the failures:\n",
      "--------------------------------------------------------------------------------\n",
      "25 fits failed with the following error:\n",
      "Traceback (most recent call last):\n",
      "  File \"c:\\Users\\ludwi\\repos\\Medical-predictions-lab\\.venv\\Lib\\site-packages\\sklearn\\model_selection\\_validation.py\", line 866, in _fit_and_score\n",
      "    estimator.fit(X_train, y_train, **fit_params)\n",
      "  File \"c:\\Users\\ludwi\\repos\\Medical-predictions-lab\\.venv\\Lib\\site-packages\\sklearn\\base.py\", line 1389, in wrapper\n",
      "    return fit_method(estimator, *args, **kwargs)\n",
      "           ^^^^^^^^^^^^^^^^^^^^^^^^^^^^^^^^^^^^^^\n",
      "  File \"c:\\Users\\ludwi\\repos\\Medical-predictions-lab\\.venv\\Lib\\site-packages\\sklearn\\linear_model\\_logistic.py\", line 1203, in fit\n",
      "    raise ValueError(\"l1_ratio must be specified when penalty is elasticnet.\")\n",
      "ValueError: l1_ratio must be specified when penalty is elasticnet.\n",
      "\n",
      "  warnings.warn(some_fits_failed_message, FitFailedWarning)\n",
      "c:\\Users\\ludwi\\repos\\Medical-predictions-lab\\.venv\\Lib\\site-packages\\sklearn\\model_selection\\_search.py:1108: UserWarning: One or more of the test scores are non-finite: [0.72535139 0.71810814        nan 0.72799836 0.72752642        nan\n",
      " 0.72810095 0.72814199        nan 0.72808044 0.72810095        nan\n",
      " 0.72810095 0.72810095        nan]\n",
      "  warnings.warn(\n"
     ]
    },
    {
     "name": "stdout",
     "output_type": "stream",
     "text": [
      "Logistic Regression best Parameters: {'C': 1, 'penalty': 'l2', 'solver': 'saga'}\n",
      "Logistic Regression performance:\n",
      "accuracy: 0.7234\n",
      "precision: 0.7581\n",
      "recall: 0.6510\n",
      "F1 Score: 0.7005\n",
      "Fitting 5 folds for each of 12 candidates, totalling 60 fits\n",
      "KNN best Parameters: {'n_neighbors': 50, 'weights': 'uniform'}\n",
      "KNN performance:\n",
      "accuracy: 0.7134\n",
      "precision: 0.7327\n",
      "recall: 0.6661\n",
      "F1 Score: 0.6978\n",
      "Fitting 5 folds for each of 12 candidates, totalling 60 fits\n",
      "KNN best Parameters: {'n_neighbors': 50, 'weights': 'uniform'}\n",
      "KNN performance:\n",
      "accuracy: 0.7194\n",
      "precision: 0.7449\n",
      "recall: 0.6619\n",
      "F1 Score: 0.7009\n",
      "{'Random forest set1': {'model': RandomForestClassifier(max_depth=10, min_samples_split=5, n_estimators=150), 'params': {'max_depth': 10, 'min_samples_leaf': 1, 'min_samples_split': 5, 'n_estimators': 150}, 'accuracy': 0.7183041993168575, 'precision': 0.7442391056354095, 'recall': 0.6596562184024267, 'f1': 0.6993996569468267}, 'random forest set2': {'model': RandomForestClassifier(max_depth=10, min_samples_leaf=4, min_samples_split=5), 'params': {'max_depth': 10, 'min_samples_leaf': 4, 'min_samples_split': 5, 'n_estimators': 100}, 'accuracy': 0.7308619650391802, 'precision': 0.762389995368226, 'recall': 0.6657229524772498, 'f1': 0.7107848429234589}, 'Logistic regression set1': {'model': LogisticRegression(C=100, solver='saga'), 'params': {'C': 100, 'penalty': 'l2', 'solver': 'saga'}, 'accuracy': 0.7153907976692787, 'precision': 0.7475386779184248, 'recall': 0.6448938321536906, 'f1': 0.6924329605905982}, 'Logistic regression set2': {'model': LogisticRegression(C=1, solver='saga'), 'params': {'C': 1, 'penalty': 'l2', 'solver': 'saga'}, 'accuracy': 0.7234277677315653, 'precision': 0.7581252943947244, 'recall': 0.6509605662285136, 'f1': 0.7004678489827004}, 'KNN set1': {'model': KNeighborsClassifier(n_neighbors=50), 'params': {'n_neighbors': 50, 'weights': 'uniform'}, 'accuracy': 0.713381555153707, 'precision': 0.7326512455516014, 'recall': 0.6661274014155713, 'f1': 0.6978074356530028}, 'KNN set2': {'model': KNeighborsClassifier(n_neighbors=50), 'params': {'n_neighbors': 50, 'weights': 'uniform'}, 'accuracy': 0.7194092827004219, 'precision': 0.7448793809740555, 'recall': 0.6618806875631952, 'f1': 0.7009315772566656}}\n"
     ]
    }
   ],
   "source": [
    "def Grid_search_CV(X_train, y_train, X_val, y_val, model, param_grid, model_name):\n",
    "    grid_search = GridSearchCV(\n",
    "        estimator=model,\n",
    "        param_grid=param_grid,\n",
    "        cv=5,\n",
    "        scoring=\"accuracy\",\n",
    "        n_jobs=-1,\n",
    "        verbose=1\n",
    "    )\n",
    "\n",
    "    grid_search.fit(X_train, y_train)\n",
    "    \n",
    "    best_params = grid_search.best_params_\n",
    "    best_model = grid_search.best_estimator_\n",
    "    \n",
    "    y_pred = best_model.predict(X_val)\n",
    "    \n",
    "    accuracy = accuracy_score(y_val, y_pred)\n",
    "    precision = precision_score(y_val, y_pred)\n",
    "    recall = recall_score(y_val, y_pred)\n",
    "    f1 = f1_score(y_val, y_pred)\n",
    "    print(f\"{model_name} best Parameters: {best_params}\")\n",
    "    print(f\"{model_name} performance:\")\n",
    "    print(f\"accuracy: {accuracy:.4f}\")\n",
    "    print(f\"precision: {precision:.4f}\")\n",
    "    print(f\"recall: {recall:.4f}\")\n",
    "    print(f\"F1 Score: {f1:.4f}\")\n",
    "    \n",
    "    return {\n",
    "        \"model\": best_model,\n",
    "        \"params\": best_params,\n",
    "        \"accuracy\": accuracy,\n",
    "        \"precision\": precision,\n",
    "        \"recall\": recall,\n",
    "        \"f1\": f1,\n",
    "    }\n",
    "\n",
    "\n",
    "results = {}\n",
    "\n",
    "results[\"Random forest set1\"] = Grid_search_CV(norm_X1_train, y1_train, norm_X1_val, y1_val, rf, rf_param_grid, \"Random Forest\")\n",
    "results[\"random forest set2\"] = Grid_search_CV(norm_X2_train, y2_train, norm_X2_val, y2_val, rf, rf_param_grid, \"Random Forest\")\n",
    "\n",
    "results[\"Logistic regression set1\"] = Grid_search_CV(norm_X1_train, y1_train, norm_X1_val, y1_val, lr, lr_param_grid, \"Logistic Regression\")\n",
    "results[\"Logistic regression set2\"] = Grid_search_CV(norm_X2_train, y2_train, norm_X2_val, y2_val, lr, lr_param_grid, \"Logistic Regression\")\n",
    "\n",
    "results[\"KNN set1\"] = Grid_search_CV(norm_X1_train, y1_train, norm_X1_val, y1_val, knn, knn_param_grid, \"KNN\")\n",
    "results[\"KNN set2\"] = Grid_search_CV(norm_X2_train, y2_train, norm_X2_val, y2_val, knn, knn_param_grid, \"KNN\")\n",
    "\n",
    "print(results)\n"
   ]
  },
  {
   "cell_type": "code",
   "execution_count": 16,
   "metadata": {},
   "outputs": [
    {
     "name": "stdout",
     "output_type": "stream",
     "text": [
      "                                          Random forest set1  \\\n",
      "model      (DecisionTreeClassifier(max_depth=10, max_feat...   \n",
      "params     {'max_depth': 10, 'min_samples_leaf': 1, 'min_...   \n",
      "accuracy                                            0.718304   \n",
      "precision                                           0.744239   \n",
      "recall                                              0.659656   \n",
      "f1                                                    0.6994   \n",
      "\n",
      "                                          random forest set2  \\\n",
      "model      (DecisionTreeClassifier(max_depth=10, max_feat...   \n",
      "params     {'max_depth': 10, 'min_samples_leaf': 4, 'min_...   \n",
      "accuracy                                            0.730862   \n",
      "precision                                            0.76239   \n",
      "recall                                              0.665723   \n",
      "f1                                                  0.710785   \n",
      "\n",
      "                                Logistic regression set1  \\\n",
      "model           LogisticRegression(C=100, solver='saga')   \n",
      "params     {'C': 100, 'penalty': 'l2', 'solver': 'saga'}   \n",
      "accuracy                                        0.715391   \n",
      "precision                                       0.747539   \n",
      "recall                                          0.644894   \n",
      "f1                                              0.692433   \n",
      "\n",
      "                              Logistic regression set2  \\\n",
      "model           LogisticRegression(C=1, solver='saga')   \n",
      "params     {'C': 1, 'penalty': 'l2', 'solver': 'saga'}   \n",
      "accuracy                                      0.723428   \n",
      "precision                                     0.758125   \n",
      "recall                                        0.650961   \n",
      "f1                                            0.700468   \n",
      "\n",
      "                                            KNN set1  \\\n",
      "model           KNeighborsClassifier(n_neighbors=50)   \n",
      "params     {'n_neighbors': 50, 'weights': 'uniform'}   \n",
      "accuracy                                    0.713382   \n",
      "precision                                   0.732651   \n",
      "recall                                      0.666127   \n",
      "f1                                          0.697807   \n",
      "\n",
      "                                            KNN set2  \n",
      "model           KNeighborsClassifier(n_neighbors=50)  \n",
      "params     {'n_neighbors': 50, 'weights': 'uniform'}  \n",
      "accuracy                                    0.719409  \n",
      "precision                                   0.744879  \n",
      "recall                                      0.661881  \n",
      "f1                                          0.700932  \n"
     ]
    }
   ],
   "source": [
    "results_df = pd.DataFrame(results)\n",
    "print(results_df)\n",
    "\n",
    "results_df.to_csv(\"CV_results.csv\")"
   ]
  },
  {
   "cell_type": "code",
   "execution_count": 17,
   "metadata": {},
   "outputs": [
    {
     "name": "stdout",
     "output_type": "stream",
     "text": [
      "Voting Classifier Accuracy: 0.7297\n"
     ]
    }
   ],
   "source": [
    "vote_clf = VotingClassifier( \n",
    "    estimators=[\n",
    "        (\"rf\", results[\"random forest set2\"][\"model\"]), \n",
    "        (\"lr\", results[\"Logistic regression set2\"][\"model\"]),\n",
    "        (\"knn\", results[\"KNN set2\"][\"model\"])\n",
    "    ],\n",
    "    voting=\"hard\"\n",
    ")\n",
    "# litet trick jag lärde mig på nätet :)\n",
    "# min gridsearch sparar modellen i results, så att jag kan använda den direkt i voting classifier\n",
    "\n",
    "\n",
    "vote_clf.fit(norm_X2_train, y2_train)\n",
    "\n",
    "y_pred = vote_clf.predict(norm_X2_test)\n",
    "\n",
    "accuracy = accuracy_score(y2_test, y_pred)\n",
    "print(f\"Voting Classifier Accuracy: {accuracy:.4f}\")"
   ]
  },
  {
   "cell_type": "code",
   "execution_count": 18,
   "metadata": {},
   "outputs": [
    {
     "data": {
      "text/plain": [
       "'baserat på resultaten fungerar dataset 2 generellt bäst och bland de 3 modellerna jag tränade funkade Random Forest bäst...\\n\\nvad säger detta om datasetet? resultatet på 0.73 accuracy är inte så bra,\\ndet saknas alltså en del information i datasetet som gör att modellerna inte kan generalisera bra. Jag skulle förutspå att en familj-historik feature skulle göra susen, hjärtsjukdomar är ju ofta genetiskt.\\n\\n'"
      ]
     },
     "execution_count": 18,
     "metadata": {},
     "output_type": "execute_result"
    }
   ],
   "source": [
    "\"\"\"baserat på resultaten fungerar dataset 2 generellt bäst och bland de 3 modellerna jag tränade funkade Random Forest bäst...\n",
    "\n",
    "vad säger detta om datasetet? resultatet på 0.73 accuracy är inte så bra,\n",
    "det saknas alltså en del information i datasetet som gör att modellerna inte kan generalisera bra. Jag skulle förutspå att en familj-historik feature skulle göra susen, hjärtsjukdomar är ju ofta genetiskt.\n",
    "\n",
    "\"\"\""
   ]
  },
  {
   "cell_type": "code",
   "execution_count": 21,
   "metadata": {},
   "outputs": [
    {
     "name": "stdout",
     "output_type": "stream",
     "text": [
      "              precision    recall  f1-score   support\n",
      "\n",
      "           0       0.71      0.80      0.75      6954\n",
      "           1       0.76      0.67      0.71      6775\n",
      "\n",
      "    accuracy                           0.73     13729\n",
      "   macro avg       0.74      0.73      0.73     13729\n",
      "weighted avg       0.74      0.73      0.73     13729\n",
      "\n"
     ]
    },
    {
     "data": {
      "image/png": "[encoded data removed]",
      "text/plain": [
       "<Figure size 640x480 with 2 Axes>"
      ]
     },
     "metadata": {},
     "output_type": "display_data"
    }
   ],
   "source": [
    "# concat val och train\n",
    "\n",
    "\n",
    "\n",
    "def evaluate_model(model, X_train, X_test, y_train, y_test):\n",
    "    model.fit(X_train, y_train)\n",
    "    y_pred = model.predict(X_test)\n",
    "\n",
    "    print(classification_report(y_test, y_pred))\n",
    "    cm = confusion_matrix(y_test, y_pred)\n",
    "    ConfusionMatrixDisplay(cm).plot()\n",
    "\n",
    "evaluate_model(results[\"random forest set2\"][\"model\"], norm_X2_train, norm_X2_test, y2_train, y2_test)\n"
   ]
  }
 ],
 "metadata": {
  "kernelspec": {
   "display_name": ".venv",
   "language": "python",
   "name": "python3"
  },
  "language_info": {
   "codemirror_mode": {
    "name": "ipython",
    "version": 3
   },
   "file_extension": ".py",
   "mimetype": "text/x-python",
   "name": "python",
   "nbconvert_exporter": "python",
   "pygments_lexer": "ipython3",
   "version": "3.12.6"
  }
 },
 "nbformat": 4,
 "nbformat_minor": 2
}
